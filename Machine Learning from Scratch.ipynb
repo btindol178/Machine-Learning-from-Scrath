{
 "cells": [
  {
   "cell_type": "markdown",
   "metadata": {},
   "source": [
    "# Machine Learning From Scratch"
   ]
  },
  {
   "cell_type": "code",
   "execution_count": 131,
   "metadata": {},
   "outputs": [],
   "source": [
    "# Load dataset\n",
    "filename = 'pima.csv'\n",
    "dataset = load_csv(filename)\n",
    "# len(dataset[1])\n",
    "\n",
    "\n"
   ]
  },
  {
   "cell_type": "code",
   "execution_count": 119,
   "metadata": {},
   "outputs": [
    {
     "name": "stdout",
     "output_type": "stream",
     "text": [
      "Loaded data file pima.csv with 768 rows and 9 columns\n",
      "[6.0, 148.0, 72.0, 35.0, 0.0, 33.6, 0.627, 50.0, 1.0]\n",
      "[0.35294117647058826, 0.7437185929648241, 0.5901639344262295, 0.35353535353535354, 0.0, 0.5007451564828614, 0.23441502988898377, 0.48333333333333334, 1.0]\n"
     ]
    }
   ],
   "source": [
    "# Example of loading Pima Indians CSV dataset\n",
    "\n",
    "# This import skips empty rows..!!! \n",
    "from csv import reader\n",
    "# Load a CSV file\n",
    "def load_csv(filename):\n",
    "    dataset = list() \n",
    "    with open(filename, 'r') as file:\n",
    "        csv_reader = reader(file)\n",
    "        for row in csv_reader:\n",
    "            if not row:  # if not there then continue \n",
    "                continue\n",
    "            dataset.append(row) # else append\n",
    "    return dataset\n",
    "\n",
    "\n",
    "\n",
    "# Convert columns of that datset into float from string!!!!\n",
    "def str_column_to_float(dataset, column): # column picks the column you want to convert to a float!\n",
    "    for row in dataset:\n",
    "        row[column] = float(row[column].strip()) # row[column] picks each row in the nth column you specifiy\n",
    "    \n",
    "# Find the min and max values for each column\n",
    "def dataset_minmax(dataset):\n",
    "    minmax = list() # make a blank list\n",
    "    for i in range(len(dataset[0])):  # for each column starting at the first row...\n",
    "        col_values = [row[i] for row in dataset] # row[i fo rrow in data set gets each column.. ] \n",
    "        value_min = min(col_values) # for that column get the max values and min values\n",
    "        value_max = max(col_values)\n",
    "        minmax.append([value_min, value_max]) # append that min max tuple to the list\n",
    "    return minmax\n",
    "    \n",
    "# Rescale dataset columns to the range 0-1\n",
    "def normalize_dataset(dataset, minmax):\n",
    "    for row in dataset:\n",
    "        for i in range(len(row)):\n",
    "            row[i] = (row[i] - minmax[i][0]) / (minmax[i][1] - minmax[i][0])\n",
    "            \n",
    "            \n",
    "# Load dataset\n",
    "filename = 'pima.csv'\n",
    "dataset = load_csv(filename)\n",
    "print('Loaded data file {0} with {1} rows and {2} columns'.format(filename, len(dataset),\n",
    "len(pima_dataset[0])))\n",
    "\n",
    "\n",
    "# convert string columns to float\n",
    "for i in range(len(dataset[0])):\n",
    "    str_column_to_float(dataset, i)\n",
    "print(dataset[0])\n",
    "\n",
    "# Calculate min and max for each column\n",
    "minmax = dataset_minmax(dataset)\n",
    "\n",
    "# Normalize columns\n",
    "normalize_dataset(dataset, minmax)\n",
    "print(dataset[0])\n",
    "\n",
    "\n"
   ]
  },
  {
   "cell_type": "code",
   "execution_count": 120,
   "metadata": {},
   "outputs": [
    {
     "name": "stdout",
     "output_type": "stream",
     "text": [
      "[95.3366940432922, 100.61563116832399, 16.8823070329915, 96.39630937672658, -54.104682070032474, 10.467649727604579, 15.740545327397628, 17.47290802520842, 1.3650063669598067]\n"
     ]
    }
   ],
   "source": [
    "# Summary statistics\n",
    "# Example of calculating stats on a contrived dataset\n",
    "from math import sqrt\n",
    "\n",
    "# calculate column means\n",
    "def column_means(dataset):\n",
    "    means = [0 for i in range(len(dataset[0]))]\n",
    "    for i in range(len(dataset[0])):\n",
    "        col_values = [row[i] for row in dataset]\n",
    "        means[i] = sum(col_values) / float(len(dataset))\n",
    "    return means\n",
    "\n",
    "# calculate column standard deviations\n",
    "def column_stdevs(dataset, means):\n",
    "    stdevs = [0 for i in range(len(dataset[0]))]  # make empty zero vector  for he number of columns \n",
    "    for i in range(len(dataset[0])): # for the first row iterating through the rows\n",
    "        variance = [pow(row[i]-means[i], 2) for row in dataset]\n",
    "        stdevs[i] = sum(variance)\n",
    "        stdevs = [sqrt(x/(float(len(dataset)-1))) for x in stdevs]\n",
    "    return stdevs\n",
    "\n",
    "# Estimate mean and standard deviation\n",
    "means = column_means(dataset)\n",
    "stdevs = column_stdevs(dataset, means)\n",
    "#print(means)\n",
    "#print(stdevs)\n",
    "\n",
    "\n",
    "# standardize dataset\n",
    "def standardize_dataset(dataset, means, stdevs):\n",
    "    for row in dataset: # really its for each column \n",
    "        for i in range(len(row)): # for that row in column 1:9\n",
    "            row[i] = (row[i] - means[i]) / stdevs[i]\n",
    "            \n",
    "            \n",
    "# standardize dataset\n",
    "standardize_dataset(dataset, means, stdevs)\n",
    "print(dataset[0])"
   ]
  },
  {
   "cell_type": "code",
   "execution_count": 142,
   "metadata": {},
   "outputs": [
    {
     "data": {
      "text/plain": [
       "307"
      ]
     },
     "execution_count": 142,
     "metadata": {},
     "output_type": "execute_result"
    }
   ],
   "source": [
    "# Example of Splitting a Contrived Dataset into Train and Test\n",
    "from random import seed\n",
    "from random import randrange\n",
    "\n",
    "# Split a dataset into a train and test set\n",
    "def train_test_split(dataset, split=0.60):\n",
    "    train = list()\n",
    "    train_size = split * len(dataset)\n",
    "    dataset_copy = list(dataset)\n",
    "    while len(train) < train_size:\n",
    "        index = randrange(len(dataset_copy))\n",
    "        train.append(dataset_copy.pop(index))\n",
    "    return train, dataset_copy\n",
    "\n",
    "# test train/test split\n",
    "seed(1)\n",
    "\n",
    "train, test = train_test_split(dataset) # get the train and test datasets for that \n",
    "\n",
    "len(test)\n"
   ]
  },
  {
   "cell_type": "code",
   "execution_count": 177,
   "metadata": {},
   "outputs": [],
   "source": [
    "# K fold validation \n",
    "# Example of Creating a Cross Validation Split\n",
    "from random import seed\n",
    "from random import randrange\n",
    "# Split a dataset into k folds\n",
    "def cross_validation_split(dataset, folds=3):\n",
    "    dataset_split = list() # empty list.. \n",
    "    dataset_copy = list(dataset)\n",
    "    fold_size = int(len(dataset) / folds)  # 3 folds so 700 ish /3 is how long each dataset will be..\n",
    "    for i in range(folds): # for i in range 1-3 folds\n",
    "        fold = list() # MAKE A LIST for that fold\n",
    "        while len(fold) < fold_size:  # while fold is less than that 256 length data set for that chunk (until fold gets same size as partition)\n",
    "            index = randrange(len(dataset_copy))  # taking the length of the dataset and generating a random number from length of dataset\n",
    "            fold.append(dataset_copy.pop(index)) # pop off that index and put it in the list.. \n",
    "        dataset_split.append(fold)\n",
    "    return dataset_split\n",
    "\n",
    "# test cross validation split\n",
    "seed(1)\n",
    "#dataset2z = [[1], [2], [3], [4], [5], [6], [7], [8], [9], [10]] # EXAMPLE.. \n",
    "folds = cross_validation_split(dataset, 4)\n",
    "# print(folds[0])"
   ]
  },
  {
   "cell_type": "code",
   "execution_count": 181,
   "metadata": {},
   "outputs": [
    {
     "name": "stdout",
     "output_type": "stream",
     "text": [
      "80.0\n"
     ]
    }
   ],
   "source": [
    "# Example of accuracy metric\n",
    "# Example of calculating classification accuracy\n",
    "# Calculate accuracy percentage between two lists\n",
    "def accuracy_metric(actual, predicted):\n",
    "    correct = 0\n",
    "    for i in range(len(actual)): # for 0- len actual\n",
    "        if actual[i] == predicted[i]: # if they are the same meaning prediction was accurate\n",
    "            correct += 1              # add a point\n",
    "    return correct / float(len(actual)) * 100.0  # then divide correct by accurate and times 100\n",
    "\n",
    "# Test accuracy\n",
    "actual = [0,0,0,0,0,1,1,1,1,1]\n",
    "predicted = [0,1,0,0,0,1,0,1,1,1]\n",
    "accuracy = accuracy_metric(actual, predicted)\n",
    "print(accuracy)"
   ]
  },
  {
   "cell_type": "code",
   "execution_count": 183,
   "metadata": {},
   "outputs": [
    {
     "data": {
      "text/plain": [
       "range(0, 10)"
      ]
     },
     "execution_count": 183,
     "metadata": {},
     "output_type": "execute_result"
    }
   ],
   "source": [
    "# CONFUSION MATRIX FOR CLASSIFICATION "
   ]
  },
  {
   "cell_type": "code",
   "execution_count": null,
   "metadata": {},
   "outputs": [],
   "source": []
  }
 ],
 "metadata": {
  "kernelspec": {
   "display_name": "Python 3",
   "language": "python",
   "name": "python3"
  },
  "language_info": {
   "codemirror_mode": {
    "name": "ipython",
    "version": 3
   },
   "file_extension": ".py",
   "mimetype": "text/x-python",
   "name": "python",
   "nbconvert_exporter": "python",
   "pygments_lexer": "ipython3",
   "version": "3.8.5"
  }
 },
 "nbformat": 4,
 "nbformat_minor": 4
}
